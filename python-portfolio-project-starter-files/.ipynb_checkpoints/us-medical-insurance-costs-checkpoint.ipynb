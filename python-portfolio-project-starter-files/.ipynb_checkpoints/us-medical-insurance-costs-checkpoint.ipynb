{
 "cells": [
  {
   "cell_type": "markdown",
   "metadata": {},
   "source": [
    "# U.S. Medical Insurance Costs"
   ]
  },
  {
   "cell_type": "code",
   "execution_count": 1,
   "metadata": {},
   "outputs": [],
   "source": [
    "#What are insurance costs in different regions?\n",
    "import csv\n",
    "\n",
    "insurance_data = []\n",
    "with open('insurance.csv') as medical_data:\n",
    "    medical_csv = csv.DictReader(medical_data)\n",
    "    i = 0\n",
    "    for row in medical_csv:\n",
    "        insurance_data.append(dict(row))\n"
   ]
  },
  {
   "cell_type": "code",
   "execution_count": 2,
   "metadata": {},
   "outputs": [],
   "source": [
    "#Sex values: Male = 0, Female = 1\n",
    "#Smoker values: Non-smoker = 0, Smoker = 1\n",
    "data_by_region = {}\n",
    "for item in insurance_data:\n",
    "    if item['sex'] == 'female':\n",
    "        item['sex'] = 1\n",
    "    else:\n",
    "        item['sex'] = 0\n",
    "    if item['smoker'] == 'yes':\n",
    "        item['smoker'] = 1\n",
    "    else:\n",
    "        item['smoker'] = 0\n",
    "    item['age'] = int(item['age'])\n",
    "    item['bmi'] = float(item['bmi'])\n",
    "    item['children'] = int(item['children'])\n",
    "    item['charges'] = float(item['charges'])\n",
    "    region = item.pop('region')\n",
    "    if region in data_by_region:\n",
    "        data_by_region[region].append(item)\n",
    "    else:\n",
    "        data_by_region[region] = [item]"
   ]
  },
  {
   "cell_type": "code",
   "execution_count": 3,
   "metadata": {},
   "outputs": [],
   "source": [
    "averages_by_region = {\n",
    "    'southwest':{'age': 0, 'sex':0, 'bmi': 0, 'children': 0, 'smoker': 0, 'charges': 0},\n",
    "    'southeast':{'age': 0, 'sex':0, 'bmi': 0, 'children': 0, 'smoker': 0, 'charges': 0},\n",
    "    'northwest':{'age': 0, 'sex':0, 'bmi': 0, 'children': 0, 'smoker': 0, 'charges': 0},\n",
    "    'northeast':{'age': 0, 'sex':0, 'bmi': 0, 'children': 0, 'smoker': 0, 'charges': 0}\n",
    "}\n",
    "\n",
    "for region in data_by_region.keys():\n",
    "    for item in data_by_region[region]:\n",
    "        averages_by_region[region]['age'] += item['age']\n",
    "        averages_by_region[region]['sex'] += item['sex']\n",
    "        averages_by_region[region]['bmi'] += item['bmi']\n",
    "        averages_by_region[region]['children'] += item['children']\n",
    "        averages_by_region[region]['smoker'] += item['smoker']\n",
    "        averages_by_region[region]['charges'] += item['charges']\n",
    "\n",
    "for region, data in averages_by_region.items():\n",
    "    averages_by_region[region]['age'] = data['age'] / len(data_by_region[region])\n",
    "    averages_by_region[region]['sex'] = data['sex'] / len(data_by_region[region])\n",
    "    averages_by_region[region]['bmi'] = data['bmi'] / len(data_by_region[region])\n",
    "    averages_by_region[region]['children'] = data['children'] / len(data_by_region[region])\n",
    "    averages_by_region[region]['smoker'] = data['smoker'] / len(data_by_region[region])\n",
    "    averages_by_region[region]['charges'] = data['charges'] / len(data_by_region[region])"
   ]
  },
  {
   "cell_type": "code",
   "execution_count": 4,
   "metadata": {},
   "outputs": [
    {
     "name": "stdout",
     "output_type": "stream",
     "text": [
      "In the southwest, the average age is 39.46, the percentage of females compared to the total population in the region is 0.50, the average bmi is 30.60, the ratio of children to adults is 1.14, the percentage of smokers in the region is 0.18, and the average amount paid for medical insurance is 12346.94.\n",
      "\n",
      "In the southeast, the average age is 38.94, the percentage of females compared to the total population in the region is 0.48, the average bmi is 33.36, the ratio of children to adults is 1.05, the percentage of smokers in the region is 0.25, and the average amount paid for medical insurance is 14735.41.\n",
      "\n",
      "In the northwest, the average age is 39.20, the percentage of females compared to the total population in the region is 0.50, the average bmi is 29.20, the ratio of children to adults is 1.15, the percentage of smokers in the region is 0.18, and the average amount paid for medical insurance is 12417.58.\n",
      "\n",
      "In the northeast, the average age is 39.27, the percentage of females compared to the total population in the region is 0.50, the average bmi is 29.17, the ratio of children to adults is 1.05, the percentage of smokers in the region is 0.21, and the average amount paid for medical insurance is 13406.38.\n",
      "\n"
     ]
    }
   ],
   "source": [
    "for region, data in averages_by_region.items():\n",
    "    print(\"In the {region}, the average age is {age:.2f}, the percentage of females compared to the total population in the region is {sex:.2f}, the average bmi is {bmi:.2f}, the ratio of children to adults is {children:.2f}, the percentage of smokers in the region is {smoker:.2f}, and the average amount paid for medical insurance is {charges:.2f}.\\n\".format(region = region, age = data['age'],sex = data['sex'], bmi = data['bmi'],children = data['children'], smoker = data['smoker'], charges = data['charges']))"
   ]
  },
  {
   "cell_type": "markdown",
   "metadata": {},
   "source": [
    "While people in the southeast are a bit younger on average, a much higher percentage of them smoke than in other regions.\n",
    "They also seem to have a higher bmi than other regions. It's no wonder that people in the southeast pay more for medical insurance on average. However, the northwest, while having less smokers, a lower bmi average, and a lower average age than the southwest, seems to pay slightly more on average for medical insurance than southwesterners."
   ]
  }
 ],
 "metadata": {
  "kernelspec": {
   "display_name": "Python 3",
   "language": "python",
   "name": "python3"
  },
  "language_info": {
   "codemirror_mode": {
    "name": "ipython",
    "version": 3
   },
   "file_extension": ".py",
   "mimetype": "text/x-python",
   "name": "python",
   "nbconvert_exporter": "python",
   "pygments_lexer": "ipython3",
   "version": "3.7.9"
  }
 },
 "nbformat": 4,
 "nbformat_minor": 4
}
